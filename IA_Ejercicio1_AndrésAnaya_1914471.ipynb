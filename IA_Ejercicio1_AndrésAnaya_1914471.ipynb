{
  "nbformat": 4,
  "nbformat_minor": 0,
  "metadata": {
    "colab": {
      "name": "IA_Ejercicio1_AndrésAnaya_1914471",
      "provenance": [],
      "collapsed_sections": [],
      "authorship_tag": "ABX9TyMu2FPb9pmuPhBqnK3CBQQQ",
      "include_colab_link": true
    },
    "kernelspec": {
      "name": "python3",
      "display_name": "Python 3"
    },
    "language_info": {
      "name": "python"
    }
  },
  "cells": [
    {
      "cell_type": "markdown",
      "metadata": {
        "id": "view-in-github",
        "colab_type": "text"
      },
      "source": [
        "<a href=\"https://colab.research.google.com/github/AndresAnayaH/LasActividadesVanAqui/blob/main/IA_Ejercicio1_Andr%C3%A9sAnaya_1914471.ipynb\" target=\"_parent\"><img src=\"https://colab.research.google.com/assets/colab-badge.svg\" alt=\"Open In Colab\"/></a>"
      ]
    },
    {
      "cell_type": "markdown",
      "source": [
        "Actividad 2: Ejercicios básicos en Python Nombre: Andrés Anaya Hernpandez 1914471 N1"
      ],
      "metadata": {
        "id": "OrcKdBCyOhfj"
      }
    },
    {
      "cell_type": "markdown",
      "source": [
        "1. Escribe un programa que le pida al usuario por su nombre y que lo salude con su nombre, excepto si se llama “Ana”, “Juan”, y “Pedro”."
      ],
      "metadata": {
        "id": "rxeTNm8GOmlW"
      }
    },
    {
      "cell_type": "code",
      "source": [
        "a = input('introduce tu nombre: ') #en esta sección nos solicitara el nombre y lo guardara en una variable \n",
        "b = 'Hola ' #este sera el saludo en caso de que el nombre sea una excepción\n",
        "c = 'Ana' #aqui se alojaron los nombre con excepción en una variable para cada uno\n",
        "d = 'Juan' \n",
        "e = 'Pedro'\n",
        "f = b + a #este sera el texto que se mostrara cuando el nombre introducido no es una excepción\n",
        "if a == c: #aqui se evaluara si el nombre es igual a una de las excepciones y se imprimira el saludo de acuerdo al caso\n",
        "  print(b) \n",
        "elif a == d: \n",
        "  print(b) \n",
        "elif a == e: \n",
        "  print(b) \n",
        "else: \n",
        "  print(f) "
      ],
      "metadata": {
        "id": "JWXaCz5iN6UH"
      },
      "execution_count": null,
      "outputs": []
    },
    {
      "cell_type": "markdown",
      "source": [
        "2.Escribe una función que regrese el último elemento de una lista y que revierta el orden de la lista e imprima la lista revertida."
      ],
      "metadata": {
        "id": "ETXuKMaNOhAp"
      }
    },
    {
      "cell_type": "code",
      "source": [
        "Lista = [] #en esta sección se creara un lista y se le pedira al usuario introducir los elementos de la lista de forma repetitiva hasta que el usuario no introdusca mas elementos dejando el espacio vacio\n",
        "a='a' \n",
        "while a !='': \n",
        "  a = input('introduce el elemento: ') \n",
        "  if a == '': \n",
        "    break \n",
        "  Lista.append(a) \n",
        "n=len(Lista) #aqui se evaluara la cantidad de elemntos que tiene la lista y se declararon dos variables para llevar a cabo el proceso de inverti la lista\n",
        "m=1\n",
        "b=-1\n",
        "Listainv=[] #aqui se crea la lista invertida y se empiezan a ordenar los elementos uno por uno hasta que todos hayan sido agragados y al final se imprime la lista\n",
        "while m<=n:\n",
        "   c=Lista[b]\n",
        "   Listainv.append(c)\n",
        "   m=m+1\n",
        "   b=b-1\n",
        "print(Listainv)"
      ],
      "metadata": {
        "id": "OzBgkwghKpxJ"
      },
      "execution_count": null,
      "outputs": []
    },
    {
      "cell_type": "markdown",
      "source": [
        "3.Escribe una función que toma una lista de strings y los imprima línea por línea en un marco rectangular."
      ],
      "metadata": {
        "id": "0BvvD8KdOini"
      }
    },
    {
      "cell_type": "code",
      "source": [
        "Lista = ['hola ','a    ','todos','esto ','es   ','un   ','marco'] #aqui se crea la lista y se declaran las variables con los elementos que formaran el marco\n",
        "m = '*********'\n",
        "MarcoI = ['*']\n",
        "MarcoD = ['*']\n",
        "print(m) #aqui se lleva a cabo el proceso de imprimir la lista junto con el marco\n",
        "for x in MarcoI:\n",
        "  for y in Lista:\n",
        "    for z in MarcoD:\n",
        "      print(x,y,z)\n",
        "print(m)"
      ],
      "metadata": {
        "id": "34dmzuhCclCH"
      },
      "execution_count": null,
      "outputs": []
    },
    {
      "cell_type": "code",
      "source": [
        "Lista = [] #en esta sección se creara un lista y se le pedira al usuario introducir los elementos de la lista de forma repetitiva hasta que el usuario no introdusca mas elementos dejando el espacio vacio\n",
        "a='a' \n",
        "while a !='': \n",
        "  a = input('introduce el elemento cuidado que todos usen la misma cantidad de letras o completar con espacios: ') \n",
        "  if a == '': \n",
        "    break \n",
        "  Lista.append(a) \n",
        "m = input('introuce * de forma que utilizen 4 espacios mas que el elemento mas largo de la lista: ') #esta sección se encarga de definir el tamaño del marco\n",
        "MarcoI = ['*']\n",
        "MarcoD = ['*']\n",
        "print(m) #aqui se lleva a cabo el proceso de imprimir la lista junto con el marco\n",
        "for x in MarcoI:\n",
        "  for y in Lista:\n",
        "    for z in MarcoD:\n",
        "      print(x,y,z)\n",
        "print(m)"
      ],
      "metadata": {
        "id": "VXIeGYIVPPPy"
      },
      "execution_count": null,
      "outputs": []
    }
  ]
}